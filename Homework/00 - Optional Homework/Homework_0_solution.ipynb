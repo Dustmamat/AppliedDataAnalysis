{
 "cells": [
  {
   "cell_type": "code",
   "execution_count": 9,
   "id": "a76d59c0-ba7b-42c5-a694-deb1064ce862",
   "metadata": {},
   "outputs": [
    {
     "name": "stdout",
     "output_type": "stream",
     "text": [
      "62.68194671826165% of gun deaths are suicides.\n",
      "86.24275809668535% of suicide victims are male.\n",
      "0.34906980205387705 of gun deaths are homicides.\n",
      "0.6612482748044778 of gun deaths are homicides.\n",
      "15.289502856655583% of the total homicide victims are women.\n"
     ]
    }
   ],
   "source": [
    "import pandas as pd\n",
    "\n",
    "death = pd.read_csv('interactive_data.csv')\n",
    "death['Gender'] = death['Gender'].astype('category')\n",
    "# death.head()\n",
    "\n",
    "del death['Population']\n",
    "del death['Rate']\n",
    "death.drop('Unnamed: 0', axis=1, inplace = True)\n",
    "\n",
    "\n",
    "mask1 = death['Gender'] != 'None selected'\n",
    "mask2 = death['Age'] != 'None selected'\n",
    "mask3 = death['Race'] != 'None selected'\n",
    "mask4 = death['Intent'] != 'None selected'\n",
    "total_death_data = death[mask1 & mask2 & mask3 & mask4]\n",
    "# total_death_data = death[target_death_data]\n",
    "total_death= total_death_data['Deaths'].sum()\n",
    "# total_death\n",
    "\n",
    "target_data = death['Intent'] == 'Suicide'\n",
    "suicide = death[target_data]\n",
    "# suicide\n",
    "\n",
    "mask1 = suicide['Gender'] != 'None selected'\n",
    "mask2 = suicide['Age'] != 'None selected'\n",
    "mask3 = suicide['Race'] != 'None selected'\n",
    "suicide = suicide[mask1 & mask2 & mask3]\n",
    "# suicide.head()\n",
    "\n",
    "suicide_death = suicide['Deaths'].sum()\n",
    "# suicide_death\n",
    "\n",
    "print(f'{suicide_death/total_death*100}% of gun deaths are suicides.')\n",
    "\n",
    "male =suicide[suicide['Gender'] == 'Male']\n",
    "male_num = male['Deaths'].sum()\n",
    "\n",
    "print(f'{male_num/suicide_death*100}% of suicide victims are male.')\n",
    "\n",
    "mask = death['Intent'] == 'Homicide'\n",
    "homicide = death[mask]\n",
    "mask1 = homicide['Gender'] != 'None selected'\n",
    "mask2 = homicide['Age'] != 'None selected'\n",
    "mask3 = homicide['Race'] != 'None selected'\n",
    "homicide = homicide[mask1 & mask2 & mask3]\n",
    "# homicide.head()\n",
    "\n",
    "homicide_death = homicide['Deaths'].sum()\n",
    "\n",
    "print(f'{homicide_death/total_death } of gun deaths are homicides.')\n",
    "\n",
    "male_homicide = homicide[homicide['Gender'] == 'Male']\n",
    "Age = male_homicide[male_homicide['Age'] == '15 - 34']\n",
    "male_homicide_black = Age[Age['Race'] == 'Black']\n",
    "male_homicide_black_death = male_homicide_black['Deaths'].sum()\n",
    "percent = male_homicide_black_death/Age['Deaths'].sum()\n",
    "print(f'{percent} of gun deaths are homicides.')\n",
    "\n",
    "women = homicide[homicide['Gender'] == 'Female']\n",
    "women_death = women['Deaths'].sum()\n",
    "\n",
    "print(f'{women_death/homicide_death*100}% of the total homicide victims are women.')"
   ]
  },
  {
   "cell_type": "code",
   "execution_count": null,
   "id": "b4092425-e353-4dde-8b66-9f06b1af9d62",
   "metadata": {},
   "outputs": [],
   "source": []
  }
 ],
 "metadata": {
  "kernelspec": {
   "display_name": "Python 3 (ipykernel)",
   "language": "python",
   "name": "python3"
  },
  "language_info": {
   "codemirror_mode": {
    "name": "ipython",
    "version": 3
   },
   "file_extension": ".py",
   "mimetype": "text/x-python",
   "name": "python",
   "nbconvert_exporter": "python",
   "pygments_lexer": "ipython3",
   "version": "3.9.18"
  }
 },
 "nbformat": 4,
 "nbformat_minor": 5
}
